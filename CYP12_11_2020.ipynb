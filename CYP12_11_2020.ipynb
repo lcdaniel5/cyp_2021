{
  "nbformat": 4,
  "nbformat_minor": 0,
  "metadata": {
    "colab": {
      "name": "12 11 2020",
      "provenance": [],
      "authorship_tag": "ABX9TyPsXbgyn5eR3s5NeX3CKrzI",
      "include_colab_link": true
    },
    "kernelspec": {
      "name": "python3",
      "display_name": "Python 3"
    }
  },
  "cells": [
    {
      "cell_type": "markdown",
      "metadata": {
        "id": "view-in-github",
        "colab_type": "text"
      },
      "source": [
        "<a href=\"https://colab.research.google.com/github/lcdaniel5/cyp_2021/blob/main/CYP12_11_2020.ipynb\" target=\"_parent\"><img src=\"https://colab.research.google.com/assets/colab-badge.svg\" alt=\"Open In Colab\"/></a>"
      ]
    },
    {
      "cell_type": "code",
      "metadata": {
        "id": "ArMpeOuNcENm",
        "outputId": "21af2446-4007-42f6-e4dc-b19fb05fd805",
        "colab": {
          "base_uri": "https://localhost:8080/"
        }
      },
      "source": [
        "numero =int (input(\"Dame un numero\"))\n",
        "if numero >0:\n",
        "  print(\"Fin del programa\")"
      ],
      "execution_count": null,
      "outputs": [
        {
          "output_type": "stream",
          "text": [
            "Dame un numero15\n",
            "Fin del programa\n"
          ],
          "name": "stdout"
        }
      ]
    },
    {
      "cell_type": "code",
      "metadata": {
        "id": "qklC_nlZfTlE",
        "outputId": "03a12b25-ba77-424b-c984-dd7940ff605c",
        "colab": {
          "base_uri": "https://localhost:8080/"
        }
      },
      "source": [
        "numero= int(input(\"Digite un numero\"))\n",
        "if numero >0:\n",
        "  print(\"El numero es positivo\")\n",
        "else:#sino imprime negativo\n",
        "  print(\"El numero es negativo\")\n",
        "  "
      ],
      "execution_count": 1,
      "outputs": [
        {
          "output_type": "stream",
          "text": [
            "Digite un numero45\n",
            "El numero es positivo\n"
          ],
          "name": "stdout"
        }
      ]
    },
    {
      "cell_type": "code",
      "metadata": {
        "id": "eAuAVh-u-B5G",
        "outputId": "24e90604-2c3b-4ff7-e82f-58108f80d84d",
        "colab": {
          "base_uri": "https://localhost:8080/"
        }
      },
      "source": [
        "numero= int(input(\"digite numero\"))\n",
        "if numero >=0:\n",
        "  print(\"El numero es positivo\")\n",
        "elif numero==0:\n",
        "  print(\"el numero es 0\")\n",
        "else:\n",
        "  print(\"El numero es negativo\")\n",
        "  \n",
        "  print (\"Fin del programa\")\n"
      ],
      "execution_count": 7,
      "outputs": [
        {
          "output_type": "stream",
          "text": [
            "digite numero45\n",
            "El numero es positivo\n"
          ],
          "name": "stdout"
        }
      ]
    },
    {
      "cell_type": "code",
      "metadata": {
        "id": "P7LpU7PjBjEZ"
      },
      "source": [
        ""
      ],
      "execution_count": null,
      "outputs": []
    }
  ]
}